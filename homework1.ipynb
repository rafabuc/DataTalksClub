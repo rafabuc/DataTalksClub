{
 "cells": [
  {
   "cell_type": "code",
   "execution_count": 1,
   "id": "61a1d95f",
   "metadata": {},
   "outputs": [
    {
     "name": "stdout",
     "output_type": "stream",
     "text": [
      "Python 3.13.7\n"
     ]
    }
   ],
   "source": [
    "#!pip install -U ipykernel\n",
    "#!pip  install numpy pandas scikit-learn seaborn jupyter\n",
    "!python --version\n",
    "\n",
    "#!conda activate ml-zoomcamp\n",
    "#!conda uninstall pandas\n",
    "#!conda clean --all\n",
    "#!conda update --all\n",
    "#!conda install pandas numpy\n",
    "\n",
    "\n",
    "#import pandas as pd\n",
    "#print(pd.__version__)"
   ]
  },
  {
   "cell_type": "code",
   "execution_count": 3,
   "id": "54f3c869",
   "metadata": {},
   "outputs": [],
   "source": [
    "import pandas as pd"
   ]
  },
  {
   "cell_type": "code",
   "execution_count": 44,
   "id": "66b749e3",
   "metadata": {},
   "outputs": [
    {
     "data": {
      "text/plain": [
       "'2.3.2'"
      ]
     },
     "execution_count": 44,
     "metadata": {},
     "output_type": "execute_result"
    }
   ],
   "source": [
    "pd.__version__"
   ]
  },
  {
   "cell_type": "code",
   "execution_count": 4,
   "id": "3da7ab19",
   "metadata": {},
   "outputs": [],
   "source": [
    "pd.__version__\n",
    "car_fuel_efficiency = pd.read_csv(\"https://raw.githubusercontent.com/alexeygrigorev/datasets/master/car_fuel_efficiency.csv\")\n"
   ]
  },
  {
   "cell_type": "code",
   "execution_count": 8,
   "id": "045cbdf9",
   "metadata": {},
   "outputs": [
    {
     "data": {
      "text/plain": [
       "9704"
      ]
     },
     "execution_count": 8,
     "metadata": {},
     "output_type": "execute_result"
    }
   ],
   "source": [
    "#How many records are in the dataset?\n",
    "car_fuel_efficiency.shape[0]"
   ]
  },
  {
   "cell_type": "code",
   "execution_count": 45,
   "id": "61bb4b2f",
   "metadata": {},
   "outputs": [
    {
     "data": {
      "text/plain": [
       "2"
      ]
     },
     "execution_count": 45,
     "metadata": {},
     "output_type": "execute_result"
    }
   ],
   "source": [
    "#How many fuel types are presented in the dataset?\n",
    "car_fuel_efficiency.head()\n",
    "#car_fuel_efficiency[\"fuel_type\"].value_counts()\n",
    "#car_fuel_efficiency[\"fuel_type\"].unique()\n",
    "car_fuel_efficiency[\"fuel_type\"].nunique()\n"
   ]
  },
  {
   "cell_type": "code",
   "execution_count": null,
   "id": "4db9abfb",
   "metadata": {},
   "outputs": [],
   "source": []
  },
  {
   "cell_type": "code",
   "execution_count": 20,
   "id": "5ab457e3",
   "metadata": {},
   "outputs": [
    {
     "data": {
      "text/plain": [
       "engine_displacement      0\n",
       "num_cylinders          482\n",
       "horsepower             708\n",
       "vehicle_weight           0\n",
       "acceleration           930\n",
       "model_year               0\n",
       "origin                   0\n",
       "fuel_type                0\n",
       "drivetrain               0\n",
       "num_doors              502\n",
       "fuel_efficiency_mpg      0\n",
       "dtype: int64"
      ]
     },
     "execution_count": 20,
     "metadata": {},
     "output_type": "execute_result"
    }
   ],
   "source": [
    "#How many columns in the dataset have missing values?\n",
    "car_fuel_efficiency.isnull().sum()"
   ]
  },
  {
   "cell_type": "code",
   "execution_count": 25,
   "id": "29bee63f",
   "metadata": {},
   "outputs": [
    {
     "data": {
      "text/plain": [
       "count    3247.000000\n",
       "mean       14.973830\n",
       "std         2.578345\n",
       "min         6.886245\n",
       "25%        13.252010\n",
       "50%        15.034670\n",
       "75%        16.726318\n",
       "max        23.759123\n",
       "Name: fuel_efficiency_mpg, dtype: float64"
      ]
     },
     "execution_count": 25,
     "metadata": {},
     "output_type": "execute_result"
    }
   ],
   "source": [
    "#What's the maximum fuel efficiency of cars from Asia?\n",
    "\n",
    "from_asia = car_fuel_efficiency[car_fuel_efficiency[\"origin\"] == \"Asia\"]\n",
    "from_asia[\"fuel_efficiency_mpg\"].max()\n",
    "from_asia[\"fuel_efficiency_mpg\"].describe()"
   ]
  },
  {
   "cell_type": "code",
   "execution_count": 42,
   "id": "06a767fb",
   "metadata": {},
   "outputs": [
    {
     "name": "stdout",
     "output_type": "stream",
     "text": [
      " Find the median value of horsepower column in the dataset. 146.0\n",
      " Find the most frequent value of horsepower column in the dataset. 189.0\n"
     ]
    }
   ],
   "source": [
    "car_fuel_efficiency[\"horsepower\"].describe()\n",
    "print(f' Find the median value of horsepower column in the dataset. {car_fuel_efficiency[\"horsepower\"].median()}')\n",
    "#Next, calculate the most frequent value of the same horsepower column.\n",
    "#car_fuel_efficiency.iloc[]\n",
    "\n",
    "index=int(car_fuel_efficiency[\"horsepower\"].value_counts().idxmax())\n",
    "most_frequent=car_fuel_efficiency.loc[index, \"horsepower\"]\n",
    "print(f' Find the most frequent value of horsepower column in the dataset. {most_frequent}')\n",
    "\n"
   ]
  },
  {
   "cell_type": "code",
   "execution_count": 43,
   "id": "560a8419",
   "metadata": {},
   "outputs": [
    {
     "name": "stdout",
     "output_type": "stream",
     "text": [
      " Now, calculate the median value of horsepower once again. 146.0\n"
     ]
    }
   ],
   "source": [
    "#Use fillna method to fill the missing values in horsepower column with the most frequent value from the previous step.\n",
    "horsepower_na=car_fuel_efficiency[\"horsepower\"].fillna(most_frequent, inplace=False)\n",
    "\n",
    "#car_fuel_efficiency[\"horsepower\"].fillna(index, inplace=True)\n",
    "print(f' Now, calculate the median value of horsepower once again. {horsepower_na.median()}')"
   ]
  },
  {
   "cell_type": "code",
   "execution_count": null,
   "id": "244b3511",
   "metadata": {},
   "outputs": [],
   "source": [
    "cars_asia=car_fuel_efficiency[car_fuel_efficiency[\"origin\"] == \"Asia\"]\n",
    "\n",
    "cars_asia=cars_asia.loc[:,[\"vehicle_weight\",\"model_year\"]]\n",
    "type(cars_asia)\n",
    "cars_asia.shape\n",
    "\n",
    "cars_asia_first7=cars_asia.head(7)\n",
    "type(cars_asia_first7)\n",
    "#Get the underlying NumPy array. Let's call it X.\n",
    "x = cars_asia_first7.to_numpy()\n",
    "type(x)\n",
    "#Compute matrix-matrix multiplication between the transpose of X and X. To get the transpose, use X.T. Let's call the result XTX.\n",
    "XTX = x.T @ x\n"
   ]
  },
  {
   "cell_type": "code",
   "execution_count": 9,
   "id": "c388dd15",
   "metadata": {},
   "outputs": [],
   "source": [
    "import numpy as np\n",
    "type(XTX)\n",
    "#Invert XTX.\n",
    "XTX_inv = np.linalg.inv(XTX)"
   ]
  },
  {
   "cell_type": "code",
   "execution_count": 12,
   "id": "046e6fc3",
   "metadata": {},
   "outputs": [
    {
     "data": {
      "text/plain": [
       "np.float64(0.5187709081074023)"
      ]
     },
     "execution_count": 12,
     "metadata": {},
     "output_type": "execute_result"
    }
   ],
   "source": [
    "y = np.array([1100, 1300, 800, 900, 1000, 1100, 1200])\n",
    "\n",
    "w= (XTX_inv @ x.T) @ y\n",
    "\n",
    "#What's the sum of all the elements of the result?\n",
    "w.sum()\n"
   ]
  }
 ],
 "metadata": {
  "kernelspec": {
   "display_name": "ml-zoomcamp",
   "language": "python",
   "name": "python3"
  },
  "language_info": {
   "codemirror_mode": {
    "name": "ipython",
    "version": 3
   },
   "file_extension": ".py",
   "mimetype": "text/x-python",
   "name": "python",
   "nbconvert_exporter": "python",
   "pygments_lexer": "ipython3",
   "version": "3.13.7"
  }
 },
 "nbformat": 4,
 "nbformat_minor": 5
}
